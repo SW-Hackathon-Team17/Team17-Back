{
 "cells": [
  {
   "cell_type": "code",
   "execution_count": 30,
   "id": "429a1fcc",
   "metadata": {},
   "outputs": [],
   "source": [
    "# !pip install openai\n",
    "# !pip install sentence_transformers\n",
    "# !pip install googletrans\n",
    "# !pip install pandas"
   ]
  },
  {
   "cell_type": "code",
   "execution_count": 31,
   "id": "80472714",
   "metadata": {},
   "outputs": [],
   "source": [
    "import sys\n",
    "import numpy as np\n",
    "from konlpy.tag import Kkma\n",
    "from konlpy.tag import Okt\n",
    "import openai\n",
    "import googletrans\n",
    "import re\n",
    "import pandas as pd\n",
    "import json\n",
    "\n",
    "kkma = Kkma()\n",
    "okt = Okt()\n",
    "translator = googletrans.Translator()\n",
    "\n",
    "# Minsu's OpenAI Key!!!\n",
    "# If you upload this code file at github, Please delete lower line.\n",
    "openai.api_key = ''"
   ]
  },
  {
   "cell_type": "code",
   "execution_count": null,
   "id": "36e556da",
   "metadata": {},
   "outputs": [],
   "source": []
  },
  {
   "cell_type": "code",
   "execution_count": null,
   "id": "b835f125",
   "metadata": {
    "scrolled": true
   },
   "outputs": [],
   "source": []
  },
  {
   "cell_type": "code",
   "execution_count": 32,
   "id": "9c4db4b9",
   "metadata": {},
   "outputs": [],
   "source": [
    "def ChatGPT_JSON(field, script):\n",
    "    message = []\n",
    "    translator = googletrans.Translator()\n",
    "\n",
    "\n",
    "    keyword_number = 8 # Setting Keyw\"ord Number\n",
    "    # keyword_number = input(\"keyword_nunber : \")\n",
    "    \n",
    "    \n",
    "    while True:\n",
    "        prompt = []\n",
    "        ChatGPT_Prompt_JSON(prompt, keyword_number, field, script)\n",
    "        content = ' '.join(prompt)\n",
    "        message.append({\"role\":\"user\", \"content\":content})\n",
    "        completion = openai.ChatCompletion.create(model = \"gpt-3.5-turbo\", messages=message)\n",
    "        chat_response = completion.choices[0].message.content\n",
    "        message.append({\"role\":\"assistant\", \"content\":chat_response})\n",
    "        print('ChatGPT : ', chat_response)\n",
    "\n",
    "        if (chat_response.find('{') == None) & (chat_response.find('}') == None):\n",
    "            continue\n",
    "        else:\n",
    "            break\n",
    "\n",
    "    dictionary = json.loads(chat_response)\n",
    "    values_list = list(dictionary.values())[0]\n",
    "    # print(values_list)\n",
    "    \n",
    "    \n",
    "    keyword_count_chatgpt = {}\n",
    "    for word in values_list:\n",
    "        count = script.count(word)\n",
    "        keyword_count_chatgpt[word] = count\n",
    "        \n",
    "    # print(keyword_count_chatgpt) # form : dictionary\n",
    "    \n",
    "    return keyword_count_chatgpt"
   ]
  },
  {
   "cell_type": "code",
   "execution_count": 33,
   "id": "19d5aa82",
   "metadata": {},
   "outputs": [],
   "source": [
    "def ChatGPT_Prompt_JSON(prompt, keyword_number, field, script):\n",
    "    prompt.append('Field is {}.'.format(field))\n",
    "    prompt.append('Script is {}.'.format(script))\n",
    "    prompt.append('Print out the Most Important Script Keyword for the field, in the form of json')\n",
    "    prompt.append('The number of keywords is {}.'.format(keyword_number))\n",
    "    # prompt.append('Keywords must be nouns, and verbs, adjectives, adverbs, and surveys should not be used.')"
   ]
  },
  {
   "cell_type": "code",
   "execution_count": 29,
   "id": "7620fa1f",
   "metadata": {},
   "outputs": [
    {
     "name": "stdout",
     "output_type": "stream",
     "text": [
      "My Field : 모츠나베 레시피\n",
      "Script : 소대창 1kg을 먹기 좋은 크기로 잘라주세요.\t 자른 대창을 끓는 물에 살짝 데친 다음, 얼음물에 바로 식혀주세요. 이 과정에서 기름이 분리됩니다.\t 양배추 1/2개를 먹기 좋은 크기로 잘라주세요.\t 부추 100g을 5~7cm 정도의 길이로 잘라주세요. 부추는 5~7cm 정도가 한입 먹기에 딱 좋은 크기라고 합니다.   홍고추는 장식용이니 최대한 얇게 썰어주세요. 물론 생략하셔도 됩니다.\t 두부 1모를 일정한 두께로 잘라주세요.\t 물 2리터에 진간장 2큰술, 쯔유 8큰술, 맛술 4큰술, 굴소스 2큰술, 올리고당 2큰술, 혼다시 2큰술을 넣고 섞어주세요. (혼다시는 가쓰오부시 10g으로 대체할 수 있어요. 이 경우, 육수를 한번 끓여서 가쓰오부시를 우려낸 다음 체로 걸러주셔야 합니다.)\t 전골냄비 바닥에 양배추를 깐 다음, 그 위에 숙주나물을 얇게 펼쳐주세요.\t 그 위에 사진처럼 두부, 대창을 올리고, 가운데에 부추를 가지런히 올려주세요.\t 부추 위에 매운맛을 더해주기 위한 레드페퍼 가루를 뿌려주세요. (레드페퍼 가루가 없을 경우, 약간의 청양고추로 대체할 수 있습니다.)\t 레드페퍼 가루 위에 통깨도 살살 뿌려주세요. (통깨는 생략 가능합니다.)\t 장식용으로 썰어둔 홍고추를 가운데에 올려주세요.\t 만들어 놓은 육수를 냄비의 벽면쪽으로 살살 부어주세요.\t 중불에 20분 정도 끓이다가, 기름기를 살짝 걷어내주면 완성입니다! 맛있게 드세요~\t 모츠나베를 거의 다 먹었을 때, 생면이나 라면사리를 넣어서 드셔보세요! 저는 개인적으로 생면 강추입니다!ㅎㅎ (소주나 청주와 특히 잘 어울리니 반주도 즐겨보세요~)\t 팁-주의사항 자른 대창은 끓는 물에 데치고 얼음물에 식혀주셔야 기름기가 분리되면서 담백해져요. 모츠나베를 어느 정도 드신 다음, 생면을 꼭 한번 넣어서 드셔보세요! 소주나 청주와 곁들이면 기가 막히게 맛있는 술안주가 되니 반주도 즐겨보세요~\n",
      "ChatGPT :  {\"keywords\": [\"모츠나베\", \"대창\", \"양배추\", \"부추\", \"홍고추\", \"두부\", \"육수\", \"레드페퍼 가루\"]}\n"
     ]
    }
   ],
   "source": [
    "if __name__ == '__main__':\n",
    "    keyword_dic = {}\n",
    "    field = input(\"My Field : \")\n",
    "    script = input(\"Script : \")\n",
    "    \n",
    "    keyword_dic = ChatGPT_JSON(field, script)"
   ]
  },
  {
   "cell_type": "code",
   "execution_count": 30,
   "id": "8af9c2a6",
   "metadata": {},
   "outputs": [
    {
     "name": "stdout",
     "output_type": "stream",
     "text": [
      "{'모츠나베': 2, '대창': 4, '양배추': 2, '부추': 4, '홍고추': 2, '두부': 2, '육수': 2, '레드페퍼 가루': 3}\n"
     ]
    }
   ],
   "source": [
    "print(keyword_dic)"
   ]
  },
  {
   "cell_type": "code",
   "execution_count": null,
   "id": "8cd7e232",
   "metadata": {},
   "outputs": [],
   "source": []
  },
  {
   "cell_type": "code",
   "execution_count": 27,
   "id": "491c1db5",
   "metadata": {},
   "outputs": [],
   "source": [
    "def ChatGPT_Prompt_Find_Nouns(prompt, field, script):\n",
    "    prompt.append('Field is {}.'.format(field)) # 주제, 분야\n",
    "    prompt.append('Script is {}.'.format(script)) # 스크립트\n",
    "    prompt.append('Print out the Most Important Script Keyword for the field, in the form of json') # JSON의 형태로 출력해줘\n",
    "    # prompt.append('The number of keywords is {}.'.format(keyword_number)) # 키워드의 개수 제시\n",
    "    prompt.append('Keywords must be nouns, and verbs, adjectives, adverbs, and surveys should not be used.')\n",
    "    prompt.append('Korean verbs usually end with \"~다\", so I hope you dont confuse verbs with nouns.')"
   ]
  },
  {
   "cell_type": "code",
   "execution_count": 28,
   "id": "198149a6",
   "metadata": {},
   "outputs": [],
   "source": [
    "def ChatGPT_Prompt_keyword_number(prompt, chat_response, keyword_number, field, script):\n",
    "    prompt.append('The number of keywords is {}.'.format(keyword_number)) # 키워드의 개수 제시\n",
    "    prompt.append('A list of dictionaries in JSON is {}'.format(chat_response)) # 키워드의 목록\n",
    "    prompt.append('I want you to choose the best topic for the field.')\n",
    "    prompt.append('Print out the Most Important Script Keyword for the field, in the form of json') # JSON의 형태로 출력해줘\n",
    "    prompt.append('Please print out the keywords that are as important as the number of keywords')"
   ]
  }
 ],
 "metadata": {
  "kernelspec": {
   "display_name": "Python 3 (ipykernel)",
   "language": "python",
   "name": "python3"
  },
  "language_info": {
   "codemirror_mode": {
    "name": "ipython",
    "version": 3
   },
   "file_extension": ".py",
   "mimetype": "text/x-python",
   "name": "python",
   "nbconvert_exporter": "python",
   "pygments_lexer": "ipython3",
   "version": "3.9.12"
  }
 },
 "nbformat": 4,
 "nbformat_minor": 5
}
