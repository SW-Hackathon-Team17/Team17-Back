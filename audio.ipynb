{
 "cells": [
  {
   "cell_type": "code",
   "execution_count": 8,
   "id": "1732e3d9",
   "metadata": {},
   "outputs": [],
   "source": [
    "# !pip install speechrecognition\n",
    "# !pip install pyaudio\n",
    "# !pip install konlpy"
   ]
  },
  {
   "cell_type": "code",
   "execution_count": 9,
   "id": "5871aff7",
   "metadata": {},
   "outputs": [],
   "source": [
    "import speech_recognition as sr\n",
    "import sys\n",
    "import numpy as np\n",
    "import pyaudio\n",
    "from konlpy.tag import Kkma\n",
    "# import re\n",
    "import pandas as pd\n",
    "# import keyboard\n",
    "\n",
    "kkma = Kkma()"
   ]
  },
  {
   "cell_type": "code",
   "execution_count": 10,
   "id": "bf744ea2",
   "metadata": {},
   "outputs": [],
   "source": [
    "def Audio(dic):\n",
    "    r = sr.Recognizer()\n",
    "\n",
    "    nouns = []\n",
    "    speak_list = []\n",
    "\n",
    "    while True:\n",
    "        # if 'q' pressed... break\n",
    "        # please change button to frontend\n",
    "\n",
    "        with sr.Microphone() as source:\n",
    "            r.adjust_for_ambient_noise(source,duration=1) # Noise Remove\n",
    "            sr.SAMPLE_RATE = 48000\n",
    "            print(\"Speaking : \")\n",
    "            speech = r.listen(source) # when speaking, this part will run.\n",
    "\n",
    "        # sys.stdout = open('audio_output.txt', 'w', encoding=\"UTF-8\")\n",
    "\n",
    "        try:\n",
    "            audio = r.recognize_google(speech, language=\"ko-KR\")\n",
    "            # print(audio)\n",
    "            speak_list.append(audio)\n",
    "            nouns = kkma.nouns(audio)\n",
    "            for word in nouns:\n",
    "                dic[word] = dic.get(word, 0) + 1\n",
    "                keys = sorted(dic.keys())\n",
    "            \n",
    "            print(dic)\n",
    "\n",
    "            if audio == \"이상입니다\":\n",
    "                break\n",
    "        except sr.UnknownValueError:\n",
    "            print(\"Your speech can not understand\")\n",
    "        except sr.RequestError as e:\n",
    "            print(\"Request Error!; {0}\".format(e))"
   ]
  },
  {
   "cell_type": "code",
   "execution_count": 11,
   "id": "da3c471c",
   "metadata": {},
   "outputs": [
    {
     "name": "stdout",
     "output_type": "stream",
     "text": [
      "Speaking : \n",
      "{'마이크': 1, '테스트': 1}\n",
      "Speaking : \n",
      "{'마이크': 1, '테스트': 1, '이상': 1}\n",
      "{'마이크': 1, '테스트': 1, '이상': 1}\n"
     ]
    }
   ],
   "source": [
    "if __name__ == \"__main__\":\n",
    "    dic = {} # word count\n",
    "    Audio(dic)\n",
    "    print(dic)"
   ]
  },
  {
   "cell_type": "code",
   "execution_count": null,
   "id": "9a3472cb",
   "metadata": {},
   "outputs": [],
   "source": []
  }
 ],
 "metadata": {
  "kernelspec": {
   "display_name": "Python 3 (ipykernel)",
   "language": "python",
   "name": "python3"
  },
  "language_info": {
   "codemirror_mode": {
    "name": "ipython",
    "version": 3
   },
   "file_extension": ".py",
   "mimetype": "text/x-python",
   "name": "python",
   "nbconvert_exporter": "python",
   "pygments_lexer": "ipython3",
   "version": "3.9.12"
  }
 },
 "nbformat": 4,
 "nbformat_minor": 5
}
