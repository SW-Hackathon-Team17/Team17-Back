{
 "cells": [
  {
   "cell_type": "code",
   "execution_count": 1,
   "id": "1732e3d9",
   "metadata": {},
   "outputs": [],
   "source": [
    "# !pip install speechrecognition\n",
    "# !pip install pyaudio\n",
    "# !pip insta|ll konlpy\n",
    "# !pip install gTTs\n",
    "# !pip install playsound==1.2.2\n",
    "# !pip install pydub\n",
    "# !pip install matplotlib"
   ]
  },
  {
   "cell_type": "code",
   "execution_count": 2,
   "id": "5871aff7",
   "metadata": {},
   "outputs": [],
   "source": [
    "import speech_recognition as sr\n",
    "import sys\n",
    "import numpy as np\n",
    "import pyaudio\n",
    "from konlpy.tag import Kkma\n",
    "from konlpy.tag import Okt\n",
    "# import re\n",
    "import pandas as pd\n",
    "import matplotlib.pyplot as plt\n",
    "import wave\n",
    "# import keyboard\n",
    "\n",
    "\n",
    "import soundfile as sf\n",
    "import datetime\n",
    "\n",
    "from gtts import gTTS\n",
    "import os\n",
    "import time\n",
    "from playsound import playsound\n",
    "\n",
    "# kkma = Kkma()\n",
    "okt = Okt()"
   ]
  },
  {
   "cell_type": "code",
   "execution_count": 3,
   "id": "659985a8",
   "metadata": {},
   "outputs": [],
   "source": [
    "def beep():\n",
    "    filename = 'beep-21.wav'\n",
    "    for i in range(3):\n",
    "        playsound(filename)\n",
    "        time.sleep(1.5)"
   ]
  },
  {
   "cell_type": "code",
   "execution_count": 4,
   "id": "2e6eba24",
   "metadata": {},
   "outputs": [],
   "source": [
    "def speak(text):\n",
    "    tts = gTTS(text=text, lang='ko')\n",
    "    filename='temp.mp3'\n",
    "    tts.save(filename)\n",
    "    playsound.playsound(filename)\n",
    "    os.remove(filename)"
   ]
  },
  {
   "cell_type": "code",
   "execution_count": 5,
   "id": "0d6adc57",
   "metadata": {},
   "outputs": [],
   "source": [
    "def count_down(seconds):\n",
    "    for i in range(seconds, 0, -1):\n",
    "        speak(str(i))"
   ]
  },
  {
   "cell_type": "code",
   "execution_count": 6,
   "id": "dafc45df",
   "metadata": {},
   "outputs": [],
   "source": [
    "def save_wav(speak_list, speech):\n",
    "    # 음성을 WAV 파일로 저장\n",
    "    filename = f\"audio_{len(speak_list)}.wav\"\n",
    "    with wave.open(filename, 'wb') as wave_file:\n",
    "        wave_file.setnchannels(1) # 1 : Mono, 2 : Stereo\n",
    "        wave_file.setsampwidth(2) #  2 bytes, 16 bits\n",
    "        wave_file.setframerate(sr.SAMPLE_RATE)  # 샘플링 주파수\n",
    "        print(sr.SAMPLE_RATE)\n",
    "        wave_file.writeframes(speech.get_wav_data())"
   ]
  },
  {
   "cell_type": "code",
   "execution_count": 8,
   "id": "bf744ea2",
   "metadata": {},
   "outputs": [],
   "source": [
    "def audio(dic):\n",
    "    r = sr.Recognizer()\n",
    "    \n",
    "    speak_list = []\n",
    "    nouns = []\n",
    "    # speak_list = []\n",
    "    # beep()\n",
    "    \n",
    "    while True:\n",
    "        # if 'q' pressed... break\n",
    "        # please change button to frontend\n",
    "\n",
    "        with sr.Microphone() as source:\n",
    "            r.adjust_for_ambient_noise(source,duration=1) # Noise Remove\n",
    "            sr.SAMPLE_RATE = 48000\n",
    "            speech = r.listen(source) # when speaking, this part will run.\n",
    "            \n",
    "            print(\"Speaking : \")\n",
    "            # sys.stdout = open('audio_output.txt', 'w', encoding=\"UTF-8\")\n",
    "\n",
    "        try:\n",
    "            audio = r.recognize_google(speech, language=\"ko-KR\")\n",
    "            \n",
    "            # print(audio)\n",
    "            # print(type(source))\n",
    "            # print(type(speech))\n",
    "            # print(type(audio)) # str\n",
    "            \n",
    "            Speak_To_Text(audio, dic)\n",
    "            \n",
    "            print(dic)\n",
    "            \n",
    "            # save_wav(speak_list, speech)\n",
    "            \n",
    "            if audio == \"이상입니다\":\n",
    "                break\n",
    "                \n",
    "        except sr.UnknownValueError:\n",
    "            print(\"Your speech can not understand\")\n",
    "        except sr.RequestError as e:\n",
    "            print(\"Request Error!; {0}\".format(e))"
   ]
  },
  {
   "cell_type": "code",
   "execution_count": 22,
   "id": "da3c471c",
   "metadata": {},
   "outputs": [
    {
     "name": "stdout",
     "output_type": "stream",
     "text": [
      "{'핫식스': 1}\n"
     ]
    }
   ],
   "source": [
    "if __name__ == \"__main__\":\n",
    "    dic = {} # word counts\n",
    "    \n",
    "    # string = input('')\n",
    "    # audio(dic)\n",
    "    \n",
    "    Speak_To_Text(string, dic)\n",
    "    print(dic)"
   ]
  },
  {
   "cell_type": "code",
   "execution_count": 16,
   "id": "955d2679",
   "metadata": {},
   "outputs": [],
   "source": [
    "# To Server\n",
    "# \n",
    "\n",
    "def Speak_To_Text(string, dic):\n",
    "    speak_list.append(string)\n",
    "    nouns = okt.nouns(string)\n",
    "    # print(nouns)\n",
    "    for word in nouns:\n",
    "        dic[word] = dic.get(word, 0) + 1\n",
    "        # keys = sorted(dic.keys())"
   ]
  },
  {
   "cell_type": "code",
   "execution_count": null,
   "id": "eaa3c6e0",
   "metadata": {},
   "outputs": [],
   "source": []
  },
  {
   "cell_type": "code",
   "execution_count": null,
   "id": "3d152e1e",
   "metadata": {},
   "outputs": [],
   "source": []
  }
 ],
 "metadata": {
  "kernelspec": {
   "display_name": "Python 3 (ipykernel)",
   "language": "python",
   "name": "python3"
  },
  "language_info": {
   "codemirror_mode": {
    "name": "ipython",
    "version": 3
   },
   "file_extension": ".py",
   "mimetype": "text/x-python",
   "name": "python",
   "nbconvert_exporter": "python",
   "pygments_lexer": "ipython3",
   "version": "3.9.12"
  }
 },
 "nbformat": 4,
 "nbformat_minor": 5
}
